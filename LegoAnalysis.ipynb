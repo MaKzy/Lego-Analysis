{
 "cells": [
  {
   "cell_type": "markdown",
   "id": "d0d03ab9",
   "metadata": {
    "slideshow": {
     "slide_type": "slide"
    }
   },
   "source": [
    "## Lego Analysis"
   ]
  },
  {
   "cell_type": "code",
   "execution_count": 124,
   "id": "95470ab8",
   "metadata": {
    "slideshow": {
     "slide_type": "fragment"
    }
   },
   "outputs": [],
   "source": [
    "#Import Libraries\n",
    "import pandas as pd\n",
    "#import plotly.express as px\n",
    "import numpy as np\n",
    "import seaborn as sns\n",
    "\n",
    "import matplotlib.pyplot as plt\n",
    "import matplotlib.mlab as mlab\n",
    "import matplotlib\n",
    "plt.style.use('ggplot')\n",
    "from matplotlib.pyplot import figure\n",
    "\n",
    "%matplotlib inline\n",
    "matplotlib.rcParams['figure.figsize'] = (12,8)"
   ]
  },
  {
   "cell_type": "code",
   "execution_count": 190,
   "id": "864bdbe9",
   "metadata": {
    "slideshow": {
     "slide_type": "fragment"
    }
   },
   "outputs": [
    {
     "data": {
      "text/html": [
       "<div>\n",
       "<style scoped>\n",
       "    .dataframe tbody tr th:only-of-type {\n",
       "        vertical-align: middle;\n",
       "    }\n",
       "\n",
       "    .dataframe tbody tr th {\n",
       "        vertical-align: top;\n",
       "    }\n",
       "\n",
       "    .dataframe thead th {\n",
       "        text-align: right;\n",
       "    }\n",
       "</style>\n",
       "<table border=\"1\" class=\"dataframe\">\n",
       "  <thead>\n",
       "    <tr style=\"text-align: right;\">\n",
       "      <th></th>\n",
       "      <th>id</th>\n",
       "      <th>name</th>\n",
       "      <th>parent_id</th>\n",
       "    </tr>\n",
       "  </thead>\n",
       "  <tbody>\n",
       "    <tr>\n",
       "      <th>0</th>\n",
       "      <td>1</td>\n",
       "      <td>Technic</td>\n",
       "      <td>NaN</td>\n",
       "    </tr>\n",
       "    <tr>\n",
       "      <th>1</th>\n",
       "      <td>2</td>\n",
       "      <td>Arctic Technic</td>\n",
       "      <td>1.0</td>\n",
       "    </tr>\n",
       "    <tr>\n",
       "      <th>2</th>\n",
       "      <td>3</td>\n",
       "      <td>Competition</td>\n",
       "      <td>1.0</td>\n",
       "    </tr>\n",
       "    <tr>\n",
       "      <th>3</th>\n",
       "      <td>4</td>\n",
       "      <td>Expert Builder</td>\n",
       "      <td>1.0</td>\n",
       "    </tr>\n",
       "    <tr>\n",
       "      <th>4</th>\n",
       "      <td>5</td>\n",
       "      <td>Model</td>\n",
       "      <td>1.0</td>\n",
       "    </tr>\n",
       "  </tbody>\n",
       "</table>\n",
       "</div>"
      ],
      "text/plain": [
       "   id            name  parent_id\n",
       "0   1         Technic        NaN\n",
       "1   2  Arctic Technic        1.0\n",
       "2   3     Competition        1.0\n",
       "3   4  Expert Builder        1.0\n",
       "4   5           Model        1.0"
      ]
     },
     "execution_count": 190,
     "metadata": {},
     "output_type": "execute_result"
    }
   ],
   "source": [
    "lego_sets = pd.read_csv (r'C:\\Users\\ginks\\Documents\\Python\\Practice\\lego-analysis\\lego_sets.csv')\n",
    "parent_themes = pd.read_csv (r'C:\\Users\\ginks\\Documents\\Python\\Practice\\lego-analysis\\parent_themes.csv')\n",
    "sets = pd.read_csv (r'C:\\Users\\ginks\\Documents\\Python\\Practice\\lego-analysis\\sets.csv')\n",
    "themes = pd.read_csv (r'C:\\Users\\ginks\\Documents\\Python\\Practice\\lego-analysis\\themes.csv')\n",
    "\n",
    "themes.head()"
   ]
  },
  {
   "cell_type": "markdown",
   "id": "cc54633e",
   "metadata": {
    "slideshow": {
     "slide_type": "slide"
    }
   },
   "source": [
    "## Merge the theme files with the Parent theme"
   ]
  },
  {
   "cell_type": "markdown",
   "id": "6abd19bd",
   "metadata": {
    "slideshow": {
     "slide_type": "fragment"
    }
   },
   "source": [
    "#### Data Wrangling & Cleaning"
   ]
  },
  {
   "cell_type": "code",
   "execution_count": null,
   "id": "8eb60bef",
   "metadata": {
    "slideshow": {
     "slide_type": "fragment"
    }
   },
   "outputs": [],
   "source": [
    "All_lego_sets = pd.merge(left = lego_sets, right = parent_themes, left_on = 'parent_theme', right_on = 'name')\n",
    "All_lego_sets.drop(columns= 'name_y',inplace= True)\n",
    "All_lego_sets.rename(columns= {'name_x':'name'},inplace= True)\n",
    "\n",
    "All_lego_sets.head()"
   ]
  },
  {
   "cell_type": "code",
   "execution_count": null,
   "id": "b2c46e46",
   "metadata": {
    "slideshow": {
     "slide_type": "fragment"
    }
   },
   "outputs": [],
   "source": [
    "licensed_lego = All_lego_sets[All_lego_sets['is_licensed']]\n",
    "licensed_lego.dropna(subset=['set_num'],inplace = True)\n",
    "#All_lego_sets[All_lego_sets['is_licensed']==True]\n",
    "licensed_lego.head(5)"
   ]
  },
  {
   "cell_type": "code",
   "execution_count": null,
   "id": "577ed6d6",
   "metadata": {
    "slideshow": {
     "slide_type": "fragment"
    }
   },
   "outputs": [],
   "source": [
    "star_wars=licensed_lego[licensed_lego['parent_theme']== 'Star Wars']\n",
    "star_wars.head(20)"
   ]
  },
  {
   "cell_type": "markdown",
   "id": "250ca6b4",
   "metadata": {
    "slideshow": {
     "slide_type": "slide"
    }
   },
   "source": [
    "## 1. What percentage of all licensed sets ever released were Star Wars themed?"
   ]
  },
  {
   "cell_type": "code",
   "execution_count": 134,
   "id": "0e012dad",
   "metadata": {
    "slideshow": {
     "slide_type": "fragment"
    }
   },
   "outputs": [
    {
     "data": {
      "text/plain": [
       "52"
      ]
     },
     "execution_count": 134,
     "metadata": {},
     "output_type": "execute_result"
    }
   ],
   "source": [
    "the_force= int(round(star_wars.shape[0]/licensed_lego.shape[0],2)*100)\n",
    "the_force"
   ]
  },
  {
   "cell_type": "markdown",
   "id": "aabb1dda",
   "metadata": {
    "slideshow": {
     "slide_type": "slide"
    }
   },
   "source": [
    "## 2. In which year was Star Wars not the most popular licensed them (in terms of number of sets released that year)?"
   ]
  },
  {
   "cell_type": "code",
   "execution_count": 135,
   "id": "67e98a0c",
   "metadata": {
    "slideshow": {
     "slide_type": "fragment"
    }
   },
   "outputs": [
    {
     "data": {
      "text/plain": [
       "2017"
      ]
     },
     "execution_count": 135,
     "metadata": {},
     "output_type": "execute_result"
    }
   ],
   "source": [
    "licensed_sort=licensed_lego.sort_values('year')\n",
    "licensed_grouped=licensed_sort.groupby(['year','parent_theme']).sum().reset_index()\n",
    "\n",
    "licensed_grouped = licensed_grouped.sort_values('is_licensed', ascending = False).drop_duplicates('year')\n",
    "licensed_grouped = licensed_grouped.max()\n",
    "new_era = int(licensed_grouped['year'])\n",
    "new_era"
   ]
  },
  {
   "cell_type": "markdown",
   "id": "573889c0",
   "metadata": {
    "slideshow": {
     "slide_type": "slide"
    }
   },
   "source": [
    "## 3. Number of sets produced each year"
   ]
  },
  {
   "cell_type": "code",
   "execution_count": null,
   "id": "15095ab2",
   "metadata": {
    "slideshow": {
     "slide_type": "fragment"
    }
   },
   "outputs": [],
   "source": [
    "allproduced=All_lego_sets[~All_lego_sets['set_num'].isnull()]"
   ]
  },
  {
   "cell_type": "code",
   "execution_count": 140,
   "id": "b83d0f44",
   "metadata": {
    "slideshow": {
     "slide_type": "fragment"
    }
   },
   "outputs": [],
   "source": [
    "setperyear= allproduced.groupby(['year'])['set_num'].count().reset_index()\n",
    "setperyear.sort_values('set_num',ascending= False,inplace= True)\n",
    "setperyear=setperyear[setperyear['year'] >= 2007]"
   ]
  },
  {
   "cell_type": "code",
   "execution_count": 191,
   "id": "3e9bcb68",
   "metadata": {
    "slideshow": {
     "slide_type": "fragment"
    }
   },
   "outputs": [
    {
     "data": {
      "image/png": "[encoded data removed]",
      "text/plain": [
       "<Figure size 864x576 with 1 Axes>"
      ]
     },
     "metadata": {
      "needs_background": "light"
     },
     "output_type": "display_data"
    }
   ],
   "source": [
    "xs= setperyear['year']\n",
    "ys= setperyear['set_num']\n",
    "\n",
    "plt.bar(xs,ys)\n",
    "\n",
    "for x,y in zip(xs,ys):\n",
    "\n",
    "    label = \"{:.2f}\".format(y)\n",
    "\n",
    "    plt.annotate(label, # this is the text\n",
    "                 (x,y), # these are the coordinates to position the label\n",
    "                 textcoords=\"offset points\", # how to position the text\n",
    "                 xytext=(0,10), # distance from text to points (x,y)\n",
    "                 ha='center')\n",
    "\n",
    "    # visualizing the plot\n",
    "plt.show()\n",
    "plt.show()"
   ]
  },
  {
   "cell_type": "code",
   "execution_count": 192,
   "id": "17fbafa7",
   "metadata": {
    "slideshow": {
     "slide_type": "fragment"
    }
   },
   "outputs": [
    {
     "data": {
      "image/png": "[encoded data removed]",
      "text/plain": [
       "<Figure size 1296x504 with 1 Axes>"
      ]
     },
     "metadata": {
      "needs_background": "light"
     },
     "output_type": "display_data"
    }
   ],
   "source": [
    "setperyear.plot(kind= 'bar',figsize=(18,7),x='year',y='set_num',title = 'Sets Produced Per Year (in the Last 10 Years)',\n",
    "           xlabel = 'Year', ylabel = 'Number of Sets')\n",
    "plt.show()"
   ]
  }
 ],
 "metadata": {
  "celltoolbar": "Slideshow",
  "kernelspec": {
   "display_name": "Python 3",
   "language": "python",
   "name": "python3"
  },
  "language_info": {
   "codemirror_mode": {
    "name": "ipython",
    "version": 3
   },
   "file_extension": ".py",
   "mimetype": "text/x-python",
   "name": "python",
   "nbconvert_exporter": "python",
   "pygments_lexer": "ipython3",
   "version": "3.9.4"
  }
 },
 "nbformat": 4,
 "nbformat_minor": 5
}
